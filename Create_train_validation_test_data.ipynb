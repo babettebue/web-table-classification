{
 "cells": [
  {
   "cell_type": "markdown",
   "metadata": {},
   "source": [
    "## Create and preprocess train, validation and test data\n",
    "\n",
    "* resize images to avg height, width \n",
    "* greyscale transformation\n",
    "* create input and label arrays\n",
    "\n"
   ]
  },
  {
   "cell_type": "code",
   "execution_count": 46,
   "metadata": {},
   "outputs": [],
   "source": [
    "import cv2 \n",
    "import os \n",
    "import numpy as np \n",
    "from random import shuffle \n",
    "from tqdm import tqdm \n",
    "import random\n",
    "import re"
   ]
  },
  {
   "cell_type": "code",
   "execution_count": 39,
   "metadata": {},
   "outputs": [],
   "source": [
    "os.chdir('E:\\Babette\\MasterThesis\\Data')"
   ]
  },
  {
   "cell_type": "code",
   "execution_count": 52,
   "metadata": {},
   "outputs": [],
   "source": [
    "# directories\n",
    "train_dir = os.path.join(\"E:\\Babette\\MasterThesis\\Classes_upsampl\", 'Train') \n",
    "val_dir= os.path.join(\"E:\\Babette\\MasterThesis\\Classes_upsampl\", 'Validation')\n",
    "test_dir = os.path.join(\"E:\\Babette\\MasterThesis\\Classes_upsampl\", 'Test') \n"
   ]
  },
  {
   "cell_type": "code",
   "execution_count": 50,
   "metadata": {},
   "outputs": [],
   "source": [
    "##find avg shape to resize images\n",
    "\n",
    "train_dir = os.path.join(\"E:\\Babette\\MasterThesis\\Classes_upsampl\", 'Train') \n",
    "validation_dir = os.path.join(\"E:\\Babette\\MasterThesis\\Classes_upsampl\", 'Validation')\n",
    "\n",
    "avg_height = 0\n",
    "avg_width = 0\n",
    "total_train = 0\n",
    "\n",
    "for class_name in os.listdir(train_dir):\n",
    "    class_path = os.path.join(train_dir, class_name)\n",
    "    class_images = os.listdir(class_path)\n",
    "\n",
    "    for img_name in class_images:\n",
    "        h, w, c = cv2.imread(os.path.join(class_path, img_name)).shape\n",
    "        avg_height += h\n",
    "        avg_width += w\n",
    "\n",
    "    total_train += len(class_images)\n",
    "    \n",
    "IMG_HEIGHT= avg_height//total_train\n",
    "IMG_WIDTH= avg_width//total_train\n",
    "\n",
    "#save values\n",
    "shape = [IMG_HEIGHT, IMG_WIDTH]\n",
    "np.save('shape.npy', shape) "
   ]
  },
  {
   "cell_type": "code",
   "execution_count": 58,
   "metadata": {},
   "outputs": [],
   "source": [
    "#labels\n",
    "\n",
    "def label_img(path): \n",
    "    word_label = path.split('\\\\')[-2] \n",
    "    if word_label == 'TABLE': return [1, 0] \n",
    "    elif word_label == 'OTHER': return [0, 1] "
   ]
  },
  {
   "cell_type": "code",
   "execution_count": 64,
   "metadata": {},
   "outputs": [],
   "source": [
    "# create data\n",
    "def create_train_data(train_dir, train): \n",
    "    training_data = [] \n",
    "    images_path =[]\n",
    "    \n",
    "    for class_name in os.listdir(train_dir):\n",
    "        class_path = os.path.join(train_dir, class_name)\n",
    "        for class_images in os.listdir(class_path):\n",
    "            images_path.append(os.path.join(class_path, class_images))\n",
    "    \n",
    "    # loading the training data \n",
    "    \n",
    "    for path in tqdm(images_path): \n",
    "  \n",
    "        # labeling the images \n",
    "        label = label_img(path) \n",
    "  \n",
    "        # loading the image from the path and then converting them into \n",
    "        # greyscale\n",
    "        img = cv2.imread(path, cv2.IMREAD_GRAYSCALE) \n",
    "  \n",
    "        # resizing the image\n",
    "        img = cv2.resize(img, (IMG_HEIGHT, IMG_WIDTH)) \n",
    "  \n",
    "        #training data list with numpy array of the images \n",
    "        training_data.append([np.array(img), np.array(label)]) \n",
    "  \n",
    "    # shuffling of the training data to preserve the random state of our data \n",
    "    shuffle(training_data) \n",
    "  \n",
    "    # saving our trained data for further uses if required \n",
    "    name = train + '_data.npy'\n",
    "    np.save(name , training_data) \n",
    "    return training_data "
   ]
  },
  {
   "cell_type": "code",
   "execution_count": 62,
   "metadata": {},
   "outputs": [],
   "source": [
    "#preprocessing test data\n",
    "def process_test_data(): \n",
    "    testing_data = [] \n",
    "    images_path =[]\n",
    "    for class_name in os.listdir(test_dir):\n",
    "        class_path = os.path.join(train_dir, class_name)\n",
    "        for class_images in os.listdir(class_path):\n",
    "            images_path.append(os.path.join(class_path, class_images))\n",
    " \n",
    "    for path in tqdm(images_path): \n",
    "        \n",
    "        img_num = path.split('\\\\')[-1]\n",
    "        img_id = re.sub(r\"id_\",\"\", img_num)\n",
    "        img_id = re.sub(r\".jpg\",\"\", img_id)\n",
    "        img = cv2.imread(path, cv2.IMREAD_GRAYSCALE) \n",
    "        img = cv2.resize(img, (IMG_HEIGHT, IMG_WIDTH)) \n",
    "        testing_data.append([np.array(img), img_id]) \n",
    "          \n",
    "    shuffle(testing_data) \n",
    "    np.save('test_data.npy', testing_data) \n",
    "    return testing_data \n"
   ]
  },
  {
   "cell_type": "code",
   "execution_count": 65,
   "metadata": {},
   "outputs": [
    {
     "name": "stderr",
     "output_type": "stream",
     "text": [
      "100%|██████████| 3160/3160 [00:23<00:00, 135.31it/s]\n",
      "100%|██████████| 660/660 [00:05<00:00, 112.93it/s]\n"
     ]
    }
   ],
   "source": [
    "train_data = create_train_data(train_dir, \"train\") \n",
    "val_data = create_train_data(val_dir, \"val\")\n",
    " \n",
    "# train_data = np.load('train_data.npy') \n",
    "# val_data = np.load('val_data.npy') \n"
   ]
  },
  {
   "cell_type": "code",
   "execution_count": 67,
   "metadata": {},
   "outputs": [
    {
     "name": "stderr",
     "output_type": "stream",
     "text": [
      "100%|██████████| 589/589 [00:13<00:00, 45.16it/s]\n"
     ]
    }
   ],
   "source": [
    "test_data = create_train_data(test_dir, \"test\") \n",
    "#test_data = process_test_data() \n",
    "# test_data = np.load('test_data.npy') "
   ]
  }
 ],
 "metadata": {
  "kernelspec": {
   "display_name": "Python 3",
   "language": "python",
   "name": "python3"
  },
  "language_info": {
   "codemirror_mode": {
    "name": "ipython",
    "version": 3
   },
   "file_extension": ".py",
   "mimetype": "text/x-python",
   "name": "python",
   "nbconvert_exporter": "python",
   "pygments_lexer": "ipython3",
   "version": "3.6.4"
  }
 },
 "nbformat": 4,
 "nbformat_minor": 2
}
